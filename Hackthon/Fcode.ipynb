{
 "cells": [
  {
   "cell_type": "code",
   "execution_count": null,
   "metadata": {
    "_cell_guid": "b1076dfc-b9ad-4769-8c92-a6c4dae69d19",
    "_uuid": "8f2839f25d086af736a60e9eeb907d3b93b6e0e5"
   },
   "outputs": [],
   "source": [
    "# This Python 3 environment comes with many helpful analytics libraries installed\n",
    "# It is defined by the kaggle/python docker image: https://github.com/kaggle/docker-python\n",
    "# For example, here's several helpful packages to load in \n",
    "\n",
    "import numpy as np # linear algebra\n",
    "import pandas as pd # data processing, CSV file I/O (e.g. pd.read_csv)\n",
    "import seaborn as sns\n",
    "import matplotlib.pyplot as plt\n",
    "import os\n",
    "from sklearn.preprocessing import LabelEncoder\n",
    "# Input data files are available in the \"../input/\" directory.\n",
    "# For example, running this (by clicking run or pressing Shift+Enter) will list the files in the input directory\n",
    "\n",
    "train_path = \"/Users/Conlin/Desktop/Hackthon/data/train.csv\"\n",
    "test_path = \"/Users/Conlin/Desktop/Hackthon/data/test.csv\"\n",
    "train_df = pd.read_csv(train_path)\n",
    "test_df = pd.read_csv(test_path)\n",
    "\n",
    "\n",
    "hp = train_df.high_BP\n",
    "hp = hp.tolist()\n",
    "for i in range(len(hp)):\n",
    "    if hp[i] == '.,':\n",
    "        hp[i] = '0'\n",
    "\n",
    "train_df.high_BP = hp\n",
    "\n",
    "\n",
    "st = train_df.stroke_in_2018\n",
    "st = st.tolist()\n",
    "for i in range(len(st)):\n",
    "    if st[i] != '1' and st[i] != '0':\n",
    "        st[i] = '-1'\n",
    "\n",
    "\n",
    "train_df.stroke_in_2018 = st    \n",
    "for i in range(len(st)):\n",
    "    if st[i] == '.':\n",
    "        print(i)\n",
    "    \n",
    "combine = [train_df, test_df]\n",
    "# Any results you write to the current directory are saved as output."
   ]
  },
  {
   "cell_type": "code",
   "execution_count": null,
   "metadata": {},
   "outputs": [],
   "source": [
    "# train_df.head()\n",
    "# train_df.columns"
   ]
  },
  {
   "cell_type": "code",
   "execution_count": null,
   "metadata": {},
   "outputs": [],
   "source": [
    "# train_data.smoker_status[train_data.smoker_status == 'non-smoker'] = 0\n",
    "# train_data.smoker_status[train_data.smoker_status == 'quit'] = 1\n",
    "# train_data.smoker_status[train_data.smoker_status == 'active_smoker'] = 2\n",
    "# train_df.dropna(inplace = True) \n",
    "\n",
    "def is_number(s):\n",
    "    try:\n",
    "        float(s)\n",
    "        return True\n",
    "    except ValueError:\n",
    "        return False \n",
    "    \n",
    "for dataset in combine:\n",
    "    dataset['smoker_status'] = dataset['smoker_status'].map({'non-smoker': 1, 'quit': 2, 'active_smoker': 3})\n",
    "#     # new data frame with split value columns \n",
    "#     new = dataset[\"sex and age\"].str.split(\",\", n = 1, expand = True) \n",
    "#     # making separate first name column from new data frame \n",
    "#     dataset[\"sex\"]= new[0] \n",
    "#     # making separate last name column from new data frame \n",
    "#     dataset[\"age\"]= new[1] \n",
    "#     # Dropping old Name columns \n",
    "#     dataset.drop(columns =[\"sex and age\"], inplace = True) \n",
    "    dataset[\"sex and age\"].fillna(\"-1,-1\",inplace = True)\n",
    "    dataset.replace('None','-1')\n",
    "\n",
    "    dataset[[\"sex\",\"age\"]] = dataset[\"sex and age\"].str.split(\",\",expand = True)\n",
    "    sex = dataset.sex\n",
    "    age = dataset.age\n",
    "\n",
    "    sex1 = sex.tolist()\n",
    "    sex2 = sex.tolist()\n",
    "    age1 = age.tolist()\n",
    "\n",
    "    for i in range(len(sex1)):\n",
    "        if sex1[i] == 'M' or sex1[i] == 'F' or sex1[i] == '-1' or sex1[i] == 'Male' or sex1[i] == 'Female':\n",
    "            pass\n",
    "        else:\n",
    "            sex1[i] = age1[i]\n",
    "            sex1[i]=sex1[i].strip(\" \")\n",
    "    for i in range(len(age1)):\n",
    "        age1[i] = age1[i].strip(\" \")\n",
    "        if age1[i] == 'M' or age1[i] == 'F' or age1[i] == 'Male' or age1[i] == 'Female':\n",
    "            age1[i] = sex2[i]\n",
    "\n",
    "    for i in range(len(age1)):\n",
    "        if not is_number(age1[i]):\n",
    "            age1[i] = '0'\n",
    "        \n",
    "    dataset.sex = sex1\n",
    "    dataset.age = age1\n",
    "    dataset.age.fillna(\"-1\",inplace = True)\n",
    "    dataset.sex.fillna(\"-1\",inplace = True)\n",
    "    \n",
    "    dataset.drop(columns =[\"sex and age\"], inplace = True)\n",
    "    \n",
    "    dataset[[\"job_status\",\"living_area\"]] = train_df[\"job_status and living_area\"].str.split(\"?\",expand = True)\n",
    "\n",
    "    job_status = dataset.job_status\n",
    "    living_area = dataset.living_area\n",
    "\n",
    "    job_status1 = job_status.tolist()\n",
    "    living_area1 = living_area.tolist()\n",
    "    living_area2 = living_area.tolist()\n",
    "\n",
    "    for i in range(len(living_area1)):\n",
    "        if living_area1[i] == 'Remote' or living_area1[i] =='City' or living_area1[i] == 'remote' or living_area1[i] == 'cIty' or living_area1[i] == 'remotee' or living_area1[i] =='city' or living_area1[i] == 'CITY' or living_area1[i] == 'c' or living_area1[i] == 'r'or living_area1[i] == 'CIty' or living_area1[i] == '-1 ':\n",
    "            pass\n",
    "        else:\n",
    "            living_area1[i] = job_status1[i]\n",
    "\n",
    "    for i in range(len(job_status1)):\n",
    "        if job_status1[i] == 'Remote' or job_status1[i] =='City' or job_status1[i] == 'remote' or job_status1[i] == 'cIty' or job_status1[i] == 'remotee' or job_status1[i] =='city' or job_status1[i] == 'CITY' or job_status1[i] == 'c' or job_status1[i] == 'r'or job_status1[i] == 'CIty' or job_status1[i] == '-1 ':\n",
    "            job_status1[i] = living_area2[i]\n",
    "\n",
    "    dataset.job_status = job_status1\n",
    "    dataset.living_area = living_area1\n",
    "    \n",
    "    dataset.fillna(\"-1\",inplace = True)\n",
    "    \n",
    "    dataset['sex'] = dataset['sex'].map({'M': 1, 'F': 2})\n",
    "    \n",
    "    dataset['job_status'] = dataset['job_status'].map({'government': 1, 'private_sector': 2,'business_owner':3})\n",
    "    \n",
    "    dataset[\"living_area\"] = dataset[\"living_area\"].map({'Remote': 1, 'City': 2})\n",
    "    \n",
    "    TD = dataset.TreatmentD\n",
    "    \n",
    "    TD_l = TD.tolist()\n",
    "    \n",
    "    for i in range(len(TD_l)):\n",
    "        if TD_l[i] == '0+E1860:E1868':\n",
    "            TD_l[i] = '0'\n",
    "    for i in TD_l:\n",
    "        if i == '0+E1860:E1868':\n",
    "            print(i)\n",
    "    \n",
    "    dataset.TreatmentD = TD_l\n",
    "    \n",
    "    dataset[\"heart_condition_detected_2017\"].fillna(\"-1\",inplace = True)\n",
    "    hc = dataset.heart_condition_detected_2017\n",
    "    hc = hc.tolist()\n",
    "    for i in range(len(hc)):\n",
    "        if hc[i] == '1' or hc[i] == '0' or hc[i] == '-1':\n",
    "            pass\n",
    "        else:\n",
    "            hc[i] = '0'\n",
    "            \n",
    "    dataset.heart_condition_detected_2017 = hc\n",
    "    \n",
    "    dataset[\"BMI\"].fillna(\"-1\",inplace = True)\n",
    "    avb = dataset.BMI\n",
    "    avb = avb.tolist()\n",
    "    for i in range(len(avb)):\n",
    "        if is_number(avb[i]):\n",
    "            pass\n",
    "        else:\n",
    "            avb[i] = '-1'\n",
    "    \n",
    "    dataset.BMI = avb\n",
    "    \n",
    "    dataset[\"smoker_status\"].fillna(\"-1\",inplace = True)\n",
    "    L = ['active_smoker','non-smoker','quit']\n",
    "    sms = dataset.smoker_status\n",
    "    sms = sms.tolist()\n",
    "    for i in range(len(sms)) :\n",
    "        if sms[i] in L or sms[i] == '-1':\n",
    "            pass\n",
    "        else:\n",
    "            sms[i] = '-1'\n",
    "            \n",
    "    dataset.smoker_status = sms\n",
    "    \n",
    "    \n",
    "    dataset[\"married\"].fillna(\"-1\",inplace = True)\n",
    "    mr = dataset.married\n",
    "    mr = mr.tolist()\n",
    "    for i in range(len(mr)):\n",
    "        if mr[i] == '1' or mr[i] == '0' or mr[i] == '-1':\n",
    "            pass\n",
    "        else:\n",
    "            mr[i]= '-1'\n",
    "    \n",
    "    dataset.married = mr\n",
    "    \n",
    "    dataset[\"sex\"].fillna(\"-1\",inplace = True)\n",
    "    dataset[\"job_status\"].fillna(\"-1\",inplace = True)\n",
    "    dataset[\"living_area\"].fillna(\"-1\",inplace = True)\n",
    "    \n",
    "    \n",
    "\n",
    "    \n",
    "#     st = dataset.stroke_in_2018 \n",
    "\n",
    "#     st_l = st.tolist()\n",
    "\n",
    "#     for i in range(len(st)):\n",
    "#         if st[i] == '?':\n",
    "#             st[i] = '0'\n",
    "\n",
    "#     for i in st_l:\n",
    "#         if i == '?':\n",
    "#             print(i)\n",
    "\n",
    "\n",
    "#     dataset.stroke_in_2018 = st_l   \n",
    "\n",
    "# le = LabelEncoder()\n",
    "\n",
    "# for i in var_mod:\n",
    "#     train[stroke_in_2018] = le.fit_transform(df[i].astype(int))\n",
    "    \n",
    "\n",
    "    \n",
    "#     dataset.replace(['other', 'Other'], [-1,-1]) \n",
    "    \n",
    "\n",
    "train_df.drop(columns =[\"job_status and living_area\"], inplace = True)  \n",
    "test_df.drop(columns =[\"job_status and living_area\"], inplace = True)"
   ]
  },
  {
   "cell_type": "code",
   "execution_count": null,
   "metadata": {},
   "outputs": [],
   "source": [
    "# train_df\n"
   ]
  },
  {
   "cell_type": "code",
   "execution_count": null,
   "metadata": {},
   "outputs": [],
   "source": [
    "# for i in train_df.columns:\n",
    "#     print(pd.unique(train_df[i]))"
   ]
  },
  {
   "cell_type": "code",
   "execution_count": null,
   "metadata": {},
   "outputs": [],
   "source": [
    "# for i in dataset.columns:\n",
    "#     print(pd.unique(dataset[i]))"
   ]
  },
  {
   "cell_type": "code",
   "execution_count": null,
   "metadata": {},
   "outputs": [],
   "source": [
    "# dataset\n"
   ]
  },
  {
   "cell_type": "code",
   "execution_count": null,
   "metadata": {},
   "outputs": [],
   "source": [
    "X_train = train_df.drop(\"stroke_in_2018\", axis=1)\n",
    "Y_train = train_df[\"stroke_in_2018\"]\n",
    "# X_test  = test_df.drop(\"id\", axis=1).copy()\n",
    "X_test  = test_df.copy()\n",
    "X_train.shape, Y_train.shape, X_test.shape"
   ]
  },
  {
   "cell_type": "code",
   "execution_count": null,
   "metadata": {},
   "outputs": [],
   "source": [
    "# machine learning\n",
    "from sklearn.linear_model import LogisticRegression\n",
    "from sklearn.svm import SVC, LinearSVC\n",
    "from sklearn.ensemble import RandomForestClassifier\n",
    "from sklearn.neighbors import KNeighborsClassifier\n",
    "from sklearn.naive_bayes import GaussianNB\n",
    "from sklearn.linear_model import Perceptron\n",
    "from sklearn.linear_model import SGDClassifier\n",
    "from sklearn.tree import DecisionTreeClassifier"
   ]
  },
  {
   "cell_type": "code",
   "execution_count": null,
   "metadata": {},
   "outputs": [],
   "source": [
    "# Random Forest\n",
    "\n",
    "random_forest = RandomForestClassifier(n_estimators=100)\n",
    "random_forest.fit(X_train, Y_train)\n",
    "Y_pred = random_forest.predict(X_test)\n",
    "random_forest.score(X_train, Y_train)\n",
    "acc_random_forest = round(random_forest.score(X_train, Y_train) * 100, 2)\n",
    "acc_random_forest"
   ]
  },
  {
   "cell_type": "code",
   "execution_count": null,
   "metadata": {},
   "outputs": [],
   "source": [
    "# Support Vector Machines\n",
    "\n",
    "svc = SVC()\n",
    "svc.fit(X_train, Y_train)\n",
    "Y_pred = svc.predict(X_test)\n",
    "acc_svc = round(svc.score(X_train, Y_train) * 100, 2)\n",
    "acc_svc"
   ]
  },
  {
   "cell_type": "code",
   "execution_count": null,
   "metadata": {},
   "outputs": [],
   "source": [
    "# Decision Tree\n",
    "\n",
    "decision_tree = DecisionTreeClassifier()\n",
    "decision_tree.fit(X_train, Y_train)\n",
    "Y_pred = decision_tree.predict(X_test)\n",
    "acc_decision_tree = round(decision_tree.score(X_train, Y_train) * 100, 2)\n",
    "acc_decision_tree"
   ]
  },
  {
   "cell_type": "code",
   "execution_count": null,
   "metadata": {},
   "outputs": [],
   "source": [
    "# Logistic Regression\n",
    "\n",
    "logreg = LogisticRegression()\n",
    "logreg.fit(X_train, Y_train)\n",
    "Y_pred = logreg.predict(X_test)\n",
    "acc_log = round(logreg.score(X_train, Y_train) * 100, 2)\n",
    "acc_log"
   ]
  },
  {
   "cell_type": "code",
   "execution_count": null,
   "metadata": {},
   "outputs": [],
   "source": [
    "\n",
    "# Gaussian Naive Bayes\n",
    "\n",
    "gaussian = GaussianNB()\n",
    "gaussian.fit(X_train, Y_train)\n",
    "Y_pred = gaussian.predict(X_test)\n",
    "acc_gaussian = round(gaussian.score(X_train, Y_train) * 100, 2)\n",
    "acc_gaussian"
   ]
  },
  {
   "cell_type": "code",
   "execution_count": null,
   "metadata": {},
   "outputs": [],
   "source": [
    "# k-Nearest Neighbors algorithm¶\n",
    "\n",
    "knn = KNeighborsClassifier(n_neighbors = 3)\n",
    "knn.fit(X_train, Y_train)\n",
    "Y_pred = knn.predict(X_test)\n",
    "acc_knn = round(knn.score(X_train, Y_train) * 100, 2)\n",
    "acc_knn"
   ]
  },
  {
   "cell_type": "code",
   "execution_count": null,
   "metadata": {},
   "outputs": [],
   "source": [
    "Y_pred"
   ]
  },
  {
   "cell_type": "code",
   "execution_count": null,
   "metadata": {},
   "outputs": [],
   "source": [
    "submission = pd.DataFrame({\n",
    "        \"id\": test_df[\"id\"],\n",
    "        \"stroke_in_2018\": Y_pred\n",
    "    })\n",
    "submission.to_csv('/Users/Conlin/Desktop/Hackthon/data/submission.csv', index=False)"
   ]
  },
  {
   "cell_type": "code",
   "execution_count": 102,
   "metadata": {},
   "outputs": [
    {
     "data": {
      "text/plain": [
       "(8718, 2)"
      ]
     },
     "execution_count": 102,
     "metadata": {},
     "output_type": "execute_result"
    }
   ],
   "source": [
    "submission.shape"
   ]
  },
  {
   "cell_type": "code",
   "execution_count": null,
   "metadata": {},
   "outputs": [],
   "source": []
  },
  {
   "cell_type": "code",
   "execution_count": null,
   "metadata": {},
   "outputs": [],
   "source": []
  },
  {
   "cell_type": "code",
   "execution_count": null,
   "metadata": {},
   "outputs": [],
   "source": []
  }
 ],
 "metadata": {
  "kernelspec": {
   "display_name": "Python 3",
   "language": "python",
   "name": "python3"
  },
  "language_info": {
   "codemirror_mode": {
    "name": "ipython",
    "version": 3
   },
   "file_extension": ".py",
   "mimetype": "text/x-python",
   "name": "python",
   "nbconvert_exporter": "python",
   "pygments_lexer": "ipython3",
   "version": "3.6.4"
  }
 },
 "nbformat": 4,
 "nbformat_minor": 1
}
